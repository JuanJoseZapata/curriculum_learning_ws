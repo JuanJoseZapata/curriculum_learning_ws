{
 "cells": [
  {
   "cell_type": "code",
   "execution_count": 97,
   "metadata": {},
   "outputs": [
    {
     "name": "stdout",
     "output_type": "stream",
     "text": [
      "baseline\n"
     ]
    },
    {
     "name": "stderr",
     "output_type": "stream",
     "text": [
      "  0%|          | 0/1000 [00:00<?, ?it/s]"
     ]
    },
    {
     "name": "stderr",
     "output_type": "stream",
     "text": [
      "rec loss: 0.122 | cmt loss: 0.001 | active %: 21.484: 100%|██████████| 1000/1000 [01:13<00:00, 13.54it/s]\n"
     ]
    }
   ],
   "source": [
    "# FashionMnist VQ experiment with various settings.\n",
    "# From https://github.com/minyoungg/vqtorch/blob/main/examples/autoencoder.py\n",
    "\n",
    "from tqdm.auto import trange\n",
    "\n",
    "import torch\n",
    "import torch.nn as nn\n",
    "from torchvision import datasets, transforms\n",
    "from torch.utils.data import DataLoader\n",
    "\n",
    "from vector_quantize_pytorch import VectorQuantize\n",
    "\n",
    "\n",
    "lr = 3e-4\n",
    "train_iter = 1000\n",
    "num_codes = 256\n",
    "seed = 1234\n",
    "device = \"cuda\" if torch.cuda.is_available() else \"cpu\"\n",
    "\n",
    "\n",
    "class SimpleVQAutoEncoder(nn.Module):\n",
    "    def __init__(self, **vq_kwargs):\n",
    "        super().__init__()\n",
    "        self.layers = nn.ModuleList(\n",
    "            [\n",
    "                nn.Conv2d(1, 16, kernel_size=3, stride=1, padding=1),\n",
    "                nn.MaxPool2d(kernel_size=2, stride=2),\n",
    "                nn.GELU(),\n",
    "                nn.Conv2d(16, 32, kernel_size=3, stride=1, padding=1),\n",
    "                nn.MaxPool2d(kernel_size=2, stride=2),\n",
    "                VectorQuantize(dim=32, accept_image_fmap = True, **vq_kwargs),\n",
    "                nn.Upsample(scale_factor=2, mode=\"nearest\"),\n",
    "                nn.Conv2d(32, 16, kernel_size=3, stride=1, padding=1),\n",
    "                nn.GELU(),\n",
    "                nn.Upsample(scale_factor=2, mode=\"nearest\"),\n",
    "                nn.Conv2d(16, 1, kernel_size=3, stride=1, padding=1),\n",
    "            ]\n",
    "        )\n",
    "        return\n",
    "\n",
    "    def forward(self, x):\n",
    "        for layer in self.layers:\n",
    "            if isinstance(layer, VectorQuantize):\n",
    "                x, indices, commit_loss = layer(x)\n",
    "            else:\n",
    "                x = layer(x)\n",
    "\n",
    "        return x.clamp(-1, 1), indices, commit_loss\n",
    "\n",
    "\n",
    "def train(model, train_loader, train_iterations=1000, alpha=10):\n",
    "    def iterate_dataset(data_loader):\n",
    "        data_iter = iter(data_loader)\n",
    "        while True:\n",
    "            try:\n",
    "                x, y = next(data_iter)\n",
    "            except StopIteration:\n",
    "                data_iter = iter(data_loader)\n",
    "                x, y = next(data_iter)\n",
    "            yield x.to(device), y.to(device)\n",
    "\n",
    "    for _ in (pbar := trange(train_iterations)):\n",
    "        opt.zero_grad()\n",
    "        x, _ = next(iterate_dataset(train_loader))\n",
    "        out, indices, cmt_loss = model(x)\n",
    "        rec_loss = (out - x).abs().mean()\n",
    "        (rec_loss + alpha * cmt_loss).backward()\n",
    "\n",
    "        opt.step()\n",
    "        pbar.set_description(\n",
    "            f\"rec loss: {rec_loss.item():.3f} | \"\n",
    "            + f\"cmt loss: {cmt_loss.item():.3f} | \"\n",
    "            + f\"active %: {indices.unique().numel() / num_codes * 100:.3f}\"\n",
    "        )\n",
    "    return\n",
    "\n",
    "\n",
    "transform = transforms.Compose(\n",
    "    [transforms.ToTensor(), transforms.Normalize((0.5,), (0.5,))]\n",
    ")\n",
    "train_dataset = DataLoader(\n",
    "    datasets.FashionMNIST(\n",
    "        root=\"~/data/fashion_mnist\", train=True, download=True, transform=transform\n",
    "    ),\n",
    "    batch_size=256,\n",
    "    shuffle=True,\n",
    ")\n",
    "\n",
    "print(\"baseline\")\n",
    "torch.random.manual_seed(seed)\n",
    "model = SimpleVQAutoEncoder(codebook_size=num_codes).to(device)\n",
    "opt = torch.optim.AdamW(model.parameters(), lr=lr)\n",
    "train(model, train_dataset, train_iterations=train_iter)"
   ]
  },
  {
   "cell_type": "code",
   "execution_count": 116,
   "metadata": {},
   "outputs": [
    {
     "data": {
      "image/png": "[encoded data removed]",
      "text/plain": [
       "<Figure size 1000x500 with 2 Axes>"
      ]
     },
     "metadata": {},
     "output_type": "display_data"
    }
   ],
   "source": [
    "# Predict with trained model\n",
    "import matplotlib.pyplot as plt\n",
    "\n",
    "x, _ = next(iter(train_dataset))\n",
    "out, _, _ = model(x.to(device))\n",
    "out = out.detach().cpu()\n",
    "\n",
    "fig, axs = plt.subplots(1, 2, figsize=(10, 5))\n",
    "axs[0].imshow(x[0].squeeze(), cmap=\"gray\")\n",
    "axs[0].set_title(\"Original\")\n",
    "axs[1].imshow(out[0].squeeze(), cmap=\"gray\")\n",
    "axs[1].set_title(\"Reconstructed\")\n",
    "plt.show()"
   ]
  },
  {
   "cell_type": "markdown",
   "metadata": {},
   "source": [
    "Load MiniGrid levels"
   ]
  },
  {
   "cell_type": "code",
   "execution_count": 11,
   "metadata": {},
   "outputs": [],
   "source": [
    "import numpy as np\n",
    "import matplotlib.pyplot as plt"
   ]
  },
  {
   "cell_type": "code",
   "execution_count": 105,
   "metadata": {},
   "outputs": [],
   "source": [
    "from torch.utils.data import Dataset, DataLoader\n",
    "import torchvision.transforms.functional as TF\n",
    "\n",
    "class GridsDataset(Dataset):\n",
    "    \"\"\"Face Landmarks dataset.\"\"\"\n",
    "\n",
    "    def __init__(self, grids, pos, img=None):\n",
    "        self.grids = grids\n",
    "        self.pos = pos\n",
    "        self.img = img\n",
    "\n",
    "    def __len__(self):\n",
    "        return len(self.grids)\n",
    "\n",
    "    def __getitem__(self, index):\n",
    "        x = TF.to_tensor(self.grids[index])\n",
    "        y = torch.tensor(self.pos[index])\n",
    "        if self.img is not None:\n",
    "            img = TF.to_tensor(self.img[index])\n",
    "            return x, y, img\n",
    "            print(\"img\")\n",
    "        return x, y"
   ]
  },
  {
   "cell_type": "code",
   "execution_count": 181,
   "metadata": {},
   "outputs": [
    {
     "data": {
      "text/plain": [
       "((40000, 13, 13, 3), (40000, 4), (40000,))"
      ]
     },
     "execution_count": 181,
     "metadata": {},
     "output_type": "execute_result"
    }
   ],
   "source": [
    "# Load the data\n",
    "X = np.load(\"MiniGrid/grids.npy\")\n",
    "Y = np.load(\"MiniGrid/pos.npy\")\n",
    "path_lengths = np.load(\"MiniGrid/path_lengths.npy\")\n",
    "\n",
    "# Un-normalize the data\n",
    "Y *= 7\n",
    "Y += 7\n",
    "Y = Y.astype(int)\n",
    "\n",
    "# Remove outer walls\n",
    "X = X[:, 1:-1, 1:-1, :]\n",
    "Y -= 1\n",
    "\n",
    "X.shape, Y.shape, path_lengths.shape"
   ]
  },
  {
   "cell_type": "markdown",
   "metadata": {},
   "source": [
    "Process grids"
   ]
  },
  {
   "cell_type": "code",
   "execution_count": 182,
   "metadata": {},
   "outputs": [
    {
     "name": "stdout",
     "output_type": "stream",
     "text": [
      "Processed 40000/40000 grids\r"
     ]
    }
   ],
   "source": [
    "idx = 0\n",
    "\n",
    "points = []\n",
    "\n",
    "for idx in range(X.shape[0]):\n",
    "    # Remove player and goal from the grid\n",
    "    X[idx, Y[idx, 1], Y[idx, 0], :] = [0, 0, 0]\n",
    "    X[idx, Y[idx, 3], Y[idx, 2], :] = [0, 0, 0]\n",
    "\n",
    "    # Extract coordinates of non-zero elements\n",
    "    x, y = np.where(X[idx].mean(axis=-1) != 0)\n",
    "    points_ = np.array(list(zip(x, y)))\n",
    "    # Add player and goal to the points\n",
    "    points_ = np.concatenate([points_, Y[idx].reshape(-1, 2)])\n",
    "    points.append(points_)\n",
    "\n",
    "    if points_.shape[0] != 27:\n",
    "        print(idx, points_.shape)\n",
    "        break\n",
    "\n",
    "    print(f\"Processed {idx+1}/{X.shape[0]} grids\", end=\"\\r\")\n",
    "\n",
    "points = np.array(points)"
   ]
  },
  {
   "cell_type": "code",
   "execution_count": 183,
   "metadata": {},
   "outputs": [],
   "source": [
    "X_img = np.copy(X).astype(np.float32)\n",
    "X = points.astype(np.float32)\n",
    "Y = path_lengths.astype(np.float32)\n",
    "\n",
    "# Standardize the data\n",
    "X -= X.mean()\n",
    "X /= X.std()\n",
    "X_img -= X_img.mean()\n",
    "X_img /= X_img.std()\n",
    "\n",
    "# One channel\n",
    "X_img = np.mean(X_img, axis=-1)"
   ]
  },
  {
   "cell_type": "code",
   "execution_count": 184,
   "metadata": {},
   "outputs": [],
   "source": [
    "import cv2\n",
    "import PIL\n",
    "\n",
    "# Resize images to 28x28\n",
    "X_img_resized = np.zeros((X_img.shape[0], 28, 28))\n",
    "for i in range(X_img.shape[0]):\n",
    "    X_img_resized[i] = cv2.resize(X_img[i], (28, 28), interpolation=PIL.Image.NEAREST)\n",
    "\n",
    "X_img = X_img_resized.astype(np.float32)"
   ]
  },
  {
   "cell_type": "code",
   "execution_count": 185,
   "metadata": {},
   "outputs": [],
   "source": [
    "# Create training and validation sets\n",
    "from sklearn.model_selection import train_test_split\n",
    "\n",
    "X_train, X_val, Y_train, Y_val, X_img_train, X_img_val, = train_test_split(X, Y, X_img, test_size=0.1, random_state=42)\n",
    "\n",
    "# Create datasets\n",
    "train_dataset = GridsDataset(X_train, Y_train, X_img_train)\n",
    "val_dataset = GridsDataset(X_val, Y_val, X_img_val)"
   ]
  },
  {
   "cell_type": "code",
   "execution_count": 186,
   "metadata": {},
   "outputs": [],
   "source": [
    "batch_size = 32\n",
    "\n",
    "train_loader = DataLoader(train_dataset, batch_size=batch_size, shuffle=True)\n",
    "val_loader = DataLoader(val_dataset, batch_size=batch_size, shuffle=False)"
   ]
  },
  {
   "cell_type": "markdown",
   "metadata": {},
   "source": [
    "Train VQ-VAE"
   ]
  },
  {
   "cell_type": "code",
   "execution_count": 198,
   "metadata": {},
   "outputs": [
    {
     "name": "stdout",
     "output_type": "stream",
     "text": [
      "baseline\n"
     ]
    },
    {
     "name": "stderr",
     "output_type": "stream",
     "text": [
      "  0%|          | 0/20000 [00:00<?, ?it/s]"
     ]
    },
    {
     "name": "stderr",
     "output_type": "stream",
     "text": [
      "rec loss: 0.369 | cmt loss: 0.000 | active %: 22.656: 100%|██████████| 20000/20000 [05:03<00:00, 65.79it/s]\n"
     ]
    }
   ],
   "source": [
    "# FashionMnist VQ experiment with various settings.\n",
    "# From https://github.com/minyoungg/vqtorch/blob/main/examples/autoencoder.py\n",
    "\n",
    "from tqdm.auto import trange\n",
    "\n",
    "import torch\n",
    "import torch.nn as nn\n",
    "from torchvision import datasets, transforms\n",
    "from torch.utils.data import DataLoader\n",
    "\n",
    "from vector_quantize_pytorch import VectorQuantize\n",
    "\n",
    "\n",
    "lr = 3e-4\n",
    "train_iter = 20000\n",
    "num_codes = 128\n",
    "seed = 1234\n",
    "device = \"cuda\" if torch.cuda.is_available() else \"cpu\"\n",
    "\n",
    "\n",
    "class SimpleVQAutoEncoder(nn.Module):\n",
    "    def __init__(self, **vq_kwargs):\n",
    "        super().__init__()\n",
    "        self.layers = nn.ModuleList(\n",
    "            [\n",
    "                nn.Conv2d(1, 16, kernel_size=3, stride=1, padding=1),\n",
    "                nn.MaxPool2d(kernel_size=2, stride=2),\n",
    "                nn.GELU(),\n",
    "                nn.Conv2d(16, 32, kernel_size=3, stride=1, padding=1),\n",
    "                nn.MaxPool2d(kernel_size=2, stride=2),\n",
    "                VectorQuantize(dim=32, accept_image_fmap = True, **vq_kwargs),\n",
    "                nn.Upsample(scale_factor=2, mode=\"nearest\"),\n",
    "                nn.Conv2d(32, 16, kernel_size=3, stride=1, padding=1),\n",
    "                nn.GELU(),\n",
    "                nn.Upsample(scale_factor=2, mode=\"nearest\"),\n",
    "                nn.Conv2d(16, 1, kernel_size=3, stride=1, padding=1),\n",
    "            ]\n",
    "        )\n",
    "        return\n",
    "\n",
    "    def forward(self, x):\n",
    "        for layer in self.layers:\n",
    "            if isinstance(layer, VectorQuantize):\n",
    "                x, indices, commit_loss = layer(x)\n",
    "            else:\n",
    "                x = layer(x)\n",
    "\n",
    "        return x.clamp(-1, 1), indices, commit_loss\n",
    "\n",
    "\n",
    "def train(model, train_loader, train_iterations=1000, alpha=10):\n",
    "    def iterate_dataset(data_loader):\n",
    "        data_iter = iter(data_loader)\n",
    "        while True:\n",
    "            try:\n",
    "                _, y, x = next(data_iter)\n",
    "            except StopIteration:\n",
    "                data_iter = iter(data_loader)\n",
    "                _, y, x = next(data_iter)\n",
    "            yield x.to(device), y.to(device)\n",
    "\n",
    "    losses = []\n",
    "    for _ in (pbar := trange(train_iterations)):\n",
    "        opt.zero_grad()\n",
    "        x, _ = next(iterate_dataset(train_loader))\n",
    "        out, indices, cmt_loss = model(x)\n",
    "        rec_loss = (out - x).abs().mean()\n",
    "        (rec_loss + alpha * cmt_loss).backward()\n",
    "\n",
    "        opt.step()\n",
    "        pbar.set_description(\n",
    "            f\"rec loss: {rec_loss.item():.3f} | \"\n",
    "            + f\"cmt loss: {cmt_loss.item():.3f} | \"\n",
    "            + f\"active %: {indices.unique().numel() / num_codes * 100:.3f}\"\n",
    "        )\n",
    "        losses.append((rec_loss, cmt_loss))\n",
    "    return losses\n",
    "\n",
    "print(\"baseline\")\n",
    "torch.random.manual_seed(seed)\n",
    "model = SimpleVQAutoEncoder(codebook_size=num_codes).to(device)\n",
    "opt = torch.optim.AdamW(model.parameters(), lr=lr)\n",
    "loss_history = train(model, train_loader, train_iterations=train_iter)"
   ]
  },
  {
   "cell_type": "code",
   "execution_count": 201,
   "metadata": {},
   "outputs": [
    {
     "data": {
      "image/png": "[encoded data removed]",
      "text/plain": [
       "<Figure size 1000x500 with 2 Axes>"
      ]
     },
     "metadata": {},
     "output_type": "display_data"
    }
   ],
   "source": [
    "# Predict with trained model\n",
    "import matplotlib.pyplot as plt\n",
    "\n",
    "_, _, x = next(iter(train_loader))\n",
    "out, _, _ = model(x.to(device))\n",
    "out = out.detach().cpu()\n",
    "\n",
    "fig, axs = plt.subplots(1, 2, figsize=(10, 5))\n",
    "axs[0].imshow(x[0].squeeze())\n",
    "axs[0].set_title(\"Original\")\n",
    "axs[1].imshow(out[0].squeeze())\n",
    "axs[1].set_title(\"Reconstructed\")\n",
    "plt.show()"
   ]
  },
  {
   "cell_type": "code",
   "execution_count": null,
   "metadata": {},
   "outputs": [],
   "source": []
  }
 ],
 "metadata": {
  "kernelspec": {
   "display_name": "masters_thesis_ws-iu67oo5c",
   "language": "python",
   "name": "python3"
  },
  "language_info": {
   "codemirror_mode": {
    "name": "ipython",
    "version": 3
   },
   "file_extension": ".py",
   "mimetype": "text/x-python",
   "name": "python",
   "nbconvert_exporter": "python",
   "pygments_lexer": "ipython3",
   "version": "3.8.10"
  }
 },
 "nbformat": 4,
 "nbformat_minor": 2
}
